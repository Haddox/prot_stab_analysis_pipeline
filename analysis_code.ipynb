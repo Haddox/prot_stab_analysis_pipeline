{
 "cells": [
  {
   "cell_type": "markdown",
   "metadata": {},
   "source": [
    "# Code that reproduces the complete analysis from Rocklin et al., 2017, Science"
   ]
  },
  {
   "cell_type": "code",
   "execution_count": 1,
   "metadata": {
    "collapsed": true
   },
   "outputs": [],
   "source": [
    "# Import `Python` modules\n",
    "import os\n",
    "import sys\n",
    "import pandas"
   ]
  },
  {
   "cell_type": "code",
   "execution_count": 2,
   "metadata": {
    "collapsed": true
   },
   "outputs": [],
   "source": [
    "# Define input variables\n",
    "data_dir = 'data/Rocklin_2017_Science/'\n",
    "designed_sequences_file = os.path.join(data_dir, 'designed_protein_sequences.csv')\n",
    "experimental_summary_file = os.path.join(data_dir, 'experimental_summary.csv')\n",
    "fastq_dir = '/work/05402/haddox/jupyter/sd2e-community/archive/ingest/Q0/sd2.biofab.upload/Rocklin_ProtStab/'\n",
    "pear_path = '/home/05402/haddox/software/pear/bin/pear'\n",
    "output_dir = 'results/'"
   ]
  },
  {
   "cell_type": "markdown",
   "metadata": {},
   "source": [
    "Call the python script"
   ]
  },
  {
   "cell_type": "code",
   "execution_count": 11,
   "metadata": {
    "scrolled": true
   },
   "outputs": [
    {
     "name": "stdout",
     "output_type": "stream",
     "text": [
      "The paired output FASTQ file called results/paired_FASTQ_files/trypsin_0-1.assembled.fastq already exists. Will not rerun `PARE`.\n",
      "The paired output FASTQ file called results/paired_FASTQ_files/trypsin_1-1.assembled.fastq already exists. Will not rerun `PARE`.\n",
      "The paired output FASTQ file called results/paired_FASTQ_files/trypsin_2-1.assembled.fastq already exists. Will not rerun `PARE`.\n",
      "The paired output FASTQ file called results/paired_FASTQ_files/trypsin_3-1.assembled.fastq already exists. Will not rerun `PARE`.\n",
      "The paired output FASTQ file called results/paired_FASTQ_files/trypsin_4-1.assembled.fastq already exists. Will not rerun `PARE`.\n",
      "The paired output FASTQ file called results/paired_FASTQ_files/trypsin_5-1.assembled.fastq already exists. Will not rerun `PARE`.\n",
      "The paired output FASTQ file called results/paired_FASTQ_files/trypsin_6-1.assembled.fastq already exists. Will not rerun `PARE`.\n",
      "The paired output FASTQ file called results/paired_FASTQ_files/chymotrypsin_0-1.assembled.fastq already exists. Will not rerun `PARE`.\n",
      "The paired output FASTQ file called results/paired_FASTQ_files/chymotrypsin_1-1.assembled.fastq already exists. Will not rerun `PARE`.\n",
      "The paired output FASTQ file called results/paired_FASTQ_files/chymotrypsin_2-1.assembled.fastq already exists. Will not rerun `PARE`.\n",
      "The paired output FASTQ file called results/paired_FASTQ_files/chymotrypsin_3-1.assembled.fastq already exists. Will not rerun `PARE`.\n",
      "The paired output FASTQ file called results/paired_FASTQ_files/chymotrypsin_4-1.assembled.fastq already exists. Will not rerun `PARE`.\n",
      "The paired output FASTQ file called results/paired_FASTQ_files/chymotrypsin_5-1.assembled.fastq already exists. Will not rerun `PARE`.\n",
      "The paired output FASTQ file called results/paired_FASTQ_files/chymotrypsin_6-1.assembled.fastq already exists. Will not rerun `PARE`.\n",
      "Already have counts for the sample: trypsin_0\n",
      "Already have counts for the sample: trypsin_1\n",
      "Already have counts for the sample: trypsin_2\n",
      "Already have counts for the sample: trypsin_3\n",
      "Already have counts for the sample: trypsin_4\n",
      "Already have counts for the sample: trypsin_5\n",
      "Already have counts for the sample: trypsin_6\n",
      "Already have counts for the sample: chymotrypsin_0\n",
      "Already have counts for the sample: chymotrypsin_1\n",
      "Already have counts for the sample: chymotrypsin_2\n",
      "Already have counts for the sample: chymotrypsin_3\n",
      "Already have counts for the sample: chymotrypsin_4\n",
      "Already have counts for the sample: chymotrypsin_5\n",
      "Already have counts for the sample: chymotrypsin_6\n"
     ]
    }
   ],
   "source": [
    "# Write the command to carry everything out\n",
    "cmd = ' '.join([\n",
    "    'python',\n",
    "    'scripts/compute_ec50_values_from_deep_sequencing_data.py',\n",
    "    '--designed_sequences_file {0}'.format(designed_sequences_file),\n",
    "    '--experimental_summary_file {0}'.format(experimental_summary_file),\n",
    "    '--fastq_dir {0}'.format(fastq_dir),\n",
    "    '--pear_path {0}'.format(pear_path),\n",
    "    '--output_dir {0}'.format(output_dir)\n",
    "])\n",
    "\n",
    "! {cmd}"
   ]
  },
  {
   "cell_type": "markdown",
   "metadata": {},
   "source": [
    "The below cells are for testing parts of the script in this notebook"
   ]
  },
  {
   "cell_type": "code",
   "execution_count": 45,
   "metadata": {
    "collapsed": true
   },
   "outputs": [],
   "source": [
    "# Import `Python` modules\n",
    "import os\n",
    "import glob\n",
    "\n",
    "import pandas"
   ]
  },
  {
   "cell_type": "code",
   "execution_count": 46,
   "metadata": {},
   "outputs": [
    {
     "name": "stdout",
     "output_type": "stream",
     "text": [
      "{'chymotrypsin', 'trypsin'}\n",
      "{0, 1, 2, 3, 4, 5, 6}\n"
     ]
    }
   ],
   "source": [
    "# Read in the designed sequences\n",
    "designed_seqs_df = pandas.read_csv(designed_sequences_file)\n",
    "designed_seqs_df.set_index('protein_sequence', inplace=True)\n",
    "\n",
    "# Read in data from the experiments summary file and get a list of\n",
    "# unique proteases and unique selection indices\n",
    "summary_df = pandas.read_csv(experimental_summary_file)\n",
    "proteases = set(summary_df['protease_type'])\n",
    "selection_indices = set(summary_df['selection_strength'])\n",
    "print(proteases)\n",
    "print(selection_indices)"
   ]
  },
  {
   "cell_type": "code",
   "execution_count": 48,
   "metadata": {},
   "outputs": [
    {
     "name": "stdout",
     "output_type": "stream",
     "text": [
      "{'trypsin_0': [('/work/05402/haddox/jupyter/sd2e-community/archive/ingest/Q0/sd2.biofab.upload/Rocklin_ProtStab/gabe14_S14_R1_001.fastq', '/work/05402/haddox/jupyter/sd2e-community/archive/ingest/Q0/sd2.biofab.upload/Rocklin_ProtStab/gabe14_S14_R2_001.fastq'), ('/work/05402/haddox/jupyter/sd2e-community/archive/ingest/Q0/sd2.biofab.upload/Rocklin_ProtStab/gabe10_S10_R1_001.fastq', '/work/05402/haddox/jupyter/sd2e-community/archive/ingest/Q0/sd2.biofab.upload/Rocklin_ProtStab/gabe10_S10_R2_001.fastq'), ('/work/05402/haddox/jupyter/sd2e-community/archive/ingest/Q0/sd2.biofab.upload/Rocklin_ProtStab/gabe16_S16_R1_001.fastq', '/work/05402/haddox/jupyter/sd2e-community/archive/ingest/Q0/sd2.biofab.upload/Rocklin_ProtStab/gabe16_S16_R2_001.fastq'), ('/work/05402/haddox/jupyter/sd2e-community/archive/ingest/Q0/sd2.biofab.upload/Rocklin_ProtStab/gabe1_S1_R1_001.fastq', '/work/05402/haddox/jupyter/sd2e-community/archive/ingest/Q0/sd2.biofab.upload/Rocklin_ProtStab/gabe1_S1_R2_001.fastq'), ('/work/05402/haddox/jupyter/sd2e-community/archive/ingest/Q0/sd2.biofab.upload/Rocklin_ProtStab/gabe12_S12_R1_001.fastq', '/work/05402/haddox/jupyter/sd2e-community/archive/ingest/Q0/sd2.biofab.upload/Rocklin_ProtStab/gabe12_S12_R2_001.fastq'), ('/work/05402/haddox/jupyter/sd2e-community/archive/ingest/Q0/sd2.biofab.upload/Rocklin_ProtStab/gabe13_S13_R1_001.fastq', '/work/05402/haddox/jupyter/sd2e-community/archive/ingest/Q0/sd2.biofab.upload/Rocklin_ProtStab/gabe13_S13_R2_001.fastq'), ('/work/05402/haddox/jupyter/sd2e-community/archive/ingest/Q0/sd2.biofab.upload/Rocklin_ProtStab/gabe11_S11_R1_001.fastq', '/work/05402/haddox/jupyter/sd2e-community/archive/ingest/Q0/sd2.biofab.upload/Rocklin_ProtStab/gabe11_S11_R2_001.fastq'), ('/work/05402/haddox/jupyter/sd2e-community/archive/ingest/Q0/sd2.biofab.upload/Rocklin_ProtStab/gabe15_S15_R1_001.fastq', '/work/05402/haddox/jupyter/sd2e-community/archive/ingest/Q0/sd2.biofab.upload/Rocklin_ProtStab/gabe15_S15_R2_001.fastq')], 'trypsin_1': [('/work/05402/haddox/jupyter/sd2e-community/archive/ingest/Q0/sd2.biofab.upload/Rocklin_ProtStab/gabe3_S3_R1_001.fastq', '/work/05402/haddox/jupyter/sd2e-community/archive/ingest/Q0/sd2.biofab.upload/Rocklin_ProtStab/gabe3_S3_R2_001.fastq')], 'trypsin_2': [('/work/05402/haddox/jupyter/sd2e-community/archive/ingest/Q0/sd2.biofab.upload/Rocklin_ProtStab/gabe4_S4_R1_001.fastq', '/work/05402/haddox/jupyter/sd2e-community/archive/ingest/Q0/sd2.biofab.upload/Rocklin_ProtStab/gabe4_S4_R2_001.fastq')], 'trypsin_3': [('/work/05402/haddox/jupyter/sd2e-community/archive/ingest/Q0/sd2.biofab.upload/Rocklin_ProtStab/gabe5_S5_R1_001.fastq', '/work/05402/haddox/jupyter/sd2e-community/archive/ingest/Q0/sd2.biofab.upload/Rocklin_ProtStab/gabe5_S5_R2_001.fastq')], 'trypsin_4': [('/work/05402/haddox/jupyter/sd2e-community/archive/ingest/Q0/sd2.biofab.upload/Rocklin_ProtStab/gabe6_S6_R1_001.fastq', '/work/05402/haddox/jupyter/sd2e-community/archive/ingest/Q0/sd2.biofab.upload/Rocklin_ProtStab/gabe6_S6_R2_001.fastq')], 'trypsin_5': [('/work/05402/haddox/jupyter/sd2e-community/archive/ingest/Q0/sd2.biofab.upload/Rocklin_ProtStab/gabe7_S7_R1_001.fastq', '/work/05402/haddox/jupyter/sd2e-community/archive/ingest/Q0/sd2.biofab.upload/Rocklin_ProtStab/gabe7_S7_R2_001.fastq')], 'trypsin_6': [('/work/05402/haddox/jupyter/sd2e-community/archive/ingest/Q0/sd2.biofab.upload/Rocklin_ProtStab/gabe8_S8_R1_001.fastq', '/work/05402/haddox/jupyter/sd2e-community/archive/ingest/Q0/sd2.biofab.upload/Rocklin_ProtStab/gabe8_S8_R2_001.fastq')], 'chymotrypsin_0': [('/work/05402/haddox/jupyter/sd2e-community/archive/ingest/Q0/sd2.biofab.upload/Rocklin_ProtStab/gabe9_S9_R1_001.fastq', '/work/05402/haddox/jupyter/sd2e-community/archive/ingest/Q0/sd2.biofab.upload/Rocklin_ProtStab/gabe9_S9_R2_001.fastq')], 'chymotrypsin_1': [('/work/05402/haddox/jupyter/sd2e-community/archive/ingest/Q0/sd2.biofab.upload/Rocklin_ProtStab/gabe11_S11_R1_001.fastq', '/work/05402/haddox/jupyter/sd2e-community/archive/ingest/Q0/sd2.biofab.upload/Rocklin_ProtStab/gabe11_S11_R2_001.fastq')], 'chymotrypsin_2': [('/work/05402/haddox/jupyter/sd2e-community/archive/ingest/Q0/sd2.biofab.upload/Rocklin_ProtStab/gabe12_S12_R1_001.fastq', '/work/05402/haddox/jupyter/sd2e-community/archive/ingest/Q0/sd2.biofab.upload/Rocklin_ProtStab/gabe12_S12_R2_001.fastq')], 'chymotrypsin_3': [('/work/05402/haddox/jupyter/sd2e-community/archive/ingest/Q0/sd2.biofab.upload/Rocklin_ProtStab/gabe13_S13_R1_001.fastq', '/work/05402/haddox/jupyter/sd2e-community/archive/ingest/Q0/sd2.biofab.upload/Rocklin_ProtStab/gabe13_S13_R2_001.fastq')], 'chymotrypsin_4': [('/work/05402/haddox/jupyter/sd2e-community/archive/ingest/Q0/sd2.biofab.upload/Rocklin_ProtStab/gabe14_S14_R1_001.fastq', '/work/05402/haddox/jupyter/sd2e-community/archive/ingest/Q0/sd2.biofab.upload/Rocklin_ProtStab/gabe14_S14_R2_001.fastq')], 'chymotrypsin_5': [('/work/05402/haddox/jupyter/sd2e-community/archive/ingest/Q0/sd2.biofab.upload/Rocklin_ProtStab/gabe15_S15_R1_001.fastq', '/work/05402/haddox/jupyter/sd2e-community/archive/ingest/Q0/sd2.biofab.upload/Rocklin_ProtStab/gabe15_S15_R2_001.fastq')], 'chymotrypsin_6': [('/work/05402/haddox/jupyter/sd2e-community/archive/ingest/Q0/sd2.biofab.upload/Rocklin_ProtStab/gabe16_S16_R1_001.fastq', '/work/05402/haddox/jupyter/sd2e-community/archive/ingest/Q0/sd2.biofab.upload/Rocklin_ProtStab/gabe16_S16_R2_001.fastq')]}\n"
     ]
    }
   ],
   "source": [
    "# Iterate through each sample in the experimental summary dataframe and compile\n",
    "# a list of FASTQ files for each sample\n",
    "FASTQ_files = {}\n",
    "for (i, row) in summary_df.iterrows():\n",
    "\n",
    "    # Get sample metadata\n",
    "    protease_type = row['protease_type']\n",
    "    selection_index = row['selection_strength']\n",
    "    experiment_name = '{0}_{1}'.format(protease_type, selection_index)\n",
    "    fastq_id = row['fastq_id'].replace('_', '-')\n",
    "\n",
    "    # Find R1 and R2 files and append them to a list\n",
    "    r1_files = glob.glob('{0}/{1}*_R1_*.fastq*'.format(fastq_dir, fastq_id))\n",
    "    r2_files = [f.replace('_R1_', '_R2_') for f in r1_files]\n",
    "    assert experiment_name not in FASTQ_files.keys(), \\\n",
    "        \"Duplicate experiment name: {0}\".format(experiment_name)\n",
    "    FASTQ_files[experiment_name] = list(zip(r1_files, r2_files))\n",
    "\n",
    "    # Make sure that each sample has the same number of R1 and R2 files, that\n",
    "    # there are more than one of each, and that the patterns \"_R1_\" and \"_R2_\"\n",
    "    # don't appear more than once\n",
    "    assert(len(r1_files) == len(r2_files))\n",
    "    if len(r1_files) == 0:\n",
    "        raise ValueError(\n",
    "            \"Failed to find FASTQ files for the fastq_id: {0}\".format(fastq_ID)\n",
    "        )\n",
    "    for (f1, f2) in zip(r1_files, r2_files):\n",
    "        assert f1.count('_R1_') == f2.count('_R2_') == 1, \\\n",
    "            \"The string '_R1_' or '_R2_' appear multiple times in file name\"\n",
    "        if not os.path.isfile(f2):\n",
    "            raise ValueError(\n",
    "                \"Failed to find a matching R2 file for: {0}\".format(f)\n",
    "            )\n"
   ]
  },
  {
   "cell_type": "code",
   "execution_count": null,
   "metadata": {
    "collapsed": true
   },
   "outputs": [],
   "source": []
  }
 ],
 "metadata": {
  "kernelspec": {
   "display_name": "Python 3",
   "language": "python",
   "name": "python3"
  },
  "language_info": {
   "codemirror_mode": {
    "name": "ipython",
    "version": 3
   },
   "file_extension": ".py",
   "mimetype": "text/x-python",
   "name": "python",
   "nbconvert_exporter": "python",
   "pygments_lexer": "ipython3",
   "version": "3.6.2"
  }
 },
 "nbformat": 4,
 "nbformat_minor": 2
}
