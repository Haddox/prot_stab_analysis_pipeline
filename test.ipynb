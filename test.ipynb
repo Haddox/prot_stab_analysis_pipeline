{
 "cells": [
  {
   "cell_type": "markdown",
   "metadata": {},
   "source": [
    "# For testing the pipeline"
   ]
  },
  {
   "cell_type": "code",
   "execution_count": 2,
   "metadata": {},
   "outputs": [],
   "source": [
    "import os"
   ]
  },
  {
   "cell_type": "code",
   "execution_count": 1,
   "metadata": {},
   "outputs": [
    {
     "name": "stdout",
     "output_type": "stream",
     "text": [
      "Traceback (most recent call last):\r\n",
      "  File \"compute_ec50_values_from_NGS_data.py\", line 48, in <module>\r\n",
      "    designed_seqs_file = sys.argv[1]\r\n",
      "IndexError: list index out of range\r\n"
     ]
    }
   ],
   "source": [
    "# Define input variables\n",
    "data_dir = 'data/Rocklin_2017_Science/'\n",
    "designed_seqs_file = os.path.join(data_dir, 'rd4_protein_and_dna_sequences.txt')\n",
    "experimental_summary_file = os.path.join(data_dir, 'rocklin_experimental_summary.csv')\n",
    "fastq_dir = 'test'\n",
    "pear_path = 'test'\n",
    "\n",
    "# Write the command to carry everything out\n",
    "cmd = ' '.join([\n",
    "    'python',\n",
    "    'compute_ec50_values_from_deep_sequencing_data.py',\n",
    "    designed_seqs_file,\n",
    "    experimental_summary_file,\n",
    "    fastq_dir,\n",
    "    pear_path\n",
    "])\n",
    "\n",
    "! cmd"
   ]
  },
  {
   "cell_type": "code",
   "execution_count": null,
   "metadata": {},
   "outputs": [],
   "source": []
  }
 ],
 "metadata": {
  "kernelspec": {
   "display_name": "Python [default]",
   "language": "python",
   "name": "python3"
  },
  "language_info": {
   "codemirror_mode": {
    "name": "ipython",
    "version": 3
   },
   "file_extension": ".py",
   "mimetype": "text/x-python",
   "name": "python",
   "nbconvert_exporter": "python",
   "pygments_lexer": "ipython3",
   "version": "3.5.4"
  }
 },
 "nbformat": 4,
 "nbformat_minor": 2
}
