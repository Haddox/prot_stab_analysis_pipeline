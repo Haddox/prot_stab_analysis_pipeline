{
 "cells": [
  {
   "cell_type": "markdown",
   "metadata": {},
   "source": [
    "# Infer EC50 values from data generated using the high-throughput stability assay for the `Inna April 2016` chip"
   ]
  },
  {
   "cell_type": "markdown",
   "metadata": {},
   "source": [
    "## Import `Python` modules and initialize the results directory"
   ]
  },
  {
   "cell_type": "code",
   "execution_count": 1,
   "metadata": {
    "collapsed": true
   },
   "outputs": [],
   "source": [
    "# Import modules\n",
    "import os\n",
    "import glob\n",
    "\n",
    "# Initialize directories\n",
    "resultsdir = \"results/Inna_April_2016\"\n",
    "resultsdir_parse_metadata = os.path.join(resultsdir, 'parse_metadata')\n",
    "dirs = [resultsdir, resultsdir_parse_metadata]\n",
    "for dir_i in dirs:\n",
    "    if not os.path.isdir(dir_i):\n",
    "        os.makedirs(dir_i)"
   ]
  },
  {
   "cell_type": "markdown",
   "metadata": {},
   "source": [
    "## Analyze data from the \"Inna April 2016\" chip"
   ]
  },
  {
   "cell_type": "markdown",
   "metadata": {},
   "source": [
    "Create a file with metadata from deep-sequencing and FACS experiments"
   ]
  },
  {
   "cell_type": "code",
   "execution_count": 2,
   "metadata": {
    "scrolled": false
   },
   "outputs": [
    {
     "name": "stdout",
     "output_type": "stream",
     "text": [
      "Traceback (most recent call last):\r\n",
      "  File \"scripts/parse_metadata.py\", line 14, in <module>\r\n",
      "    from FlowCytometryTools import *\r\n",
      "ModuleNotFoundError: No module named 'FlowCytometryTools'\r\n"
     ]
    }
   ],
   "source": [
    "# Specify the location of FASTQ files\n",
    "fastq_dir = '/work/05402/haddox/jupyter/sd2e-community/shared-q1-workshop/strcklnd/ngs_data/run_4'\n",
    "\n",
    "# Specify the locations of directories with FCS files with part of the FACS data \n",
    "facs_dir = \"/work/05402/haddox/jupyter/sd2e-community/shared-q1-workshop/strcklnd/facs_data/production_data/\"\n",
    "job_ids = ['Job_56649', 'Job_56497', 'Job_56243']\n",
    "facs_dirs = ','.join([os.path.join(facs_dir, job_id) for job_id in job_ids])\n",
    "job_ids = ','.join(job_ids)\n",
    "\n",
    "# Specify the FACS channel name to investigate\n",
    "facs_channel_name = u'FITC-A'\n",
    "\n",
    "# Make a list of input XML files with the other part of the FACS data\n",
    "xml_files = ','.join(glob.glob(\n",
    "    os.path.join(facs_dir, 'sort_reports', '*/*.xml')\n",
    "))\n",
    "\n",
    "# Specify column-specific values to analyze in the metadata files.\n",
    "library_name = \"Inna_April_2016\"\n",
    "ignore_aq_item_ids = '118852'\n",
    "\n",
    "# Specify the output metadata CSV file\n",
    "output_file = os.path.join(resultsdir_parse_metadata, 'experimental_metadata_from_script.csv')\n",
    "\n",
    "# Carry out the command\n",
    "cmd = ' '.join([\n",
    "    'python',\n",
    "    'scripts/parse_metadata.py',\n",
    "    '--fastq_dir {0}'.format(fastq_dir),\n",
    "    \"--job_ids {0}\".format(job_ids),\n",
    "    \"--facs_dirs {0}\".format(facs_dirs),\n",
    "    \"--facs_channel_name {0}\".format(facs_channel_name),\n",
    "    \"--xml_files {0}\".format(xml_files),\n",
    "    \"--library_name {0}\".format(library_name),\n",
    "    \"--ignore_aq_item_ids\".format(ignore_aq_item_ids),\n",
    "    \"--output_file {0}\".format(output_file)\n",
    "])\n",
    "\n",
    "! {cmd}"
   ]
  },
  {
   "cell_type": "code",
   "execution_count": null,
   "metadata": {
    "collapsed": true
   },
   "outputs": [],
   "source": []
  }
 ],
 "metadata": {
  "kernelspec": {
   "display_name": "Python 2",
   "language": "python",
   "name": "python2"
  },
  "language_info": {
   "codemirror_mode": {
    "name": "ipython",
    "version": 2
   },
   "file_extension": ".py",
   "mimetype": "text/x-python",
   "name": "python",
   "nbconvert_exporter": "python",
   "pygments_lexer": "ipython2",
   "version": "2.7.11"
  }
 },
 "nbformat": 4,
 "nbformat_minor": 2
}
