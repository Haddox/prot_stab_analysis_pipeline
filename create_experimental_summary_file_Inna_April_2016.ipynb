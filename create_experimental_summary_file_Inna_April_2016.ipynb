{
 "cells": [
  {
   "cell_type": "markdown",
   "metadata": {},
   "source": [
    "# Infer EC50 values from data generated using the high-throughput stability assay for the `Inna April 2016` chip"
   ]
  },
  {
   "cell_type": "markdown",
   "metadata": {},
   "source": [
    "## Import `Python` modules"
   ]
  },
  {
   "cell_type": "code",
   "execution_count": 1,
   "metadata": {
    "collapsed": true
   },
   "outputs": [],
   "source": [
    "import os\n",
    "import sys\n",
    "import re\n",
    "import glob\n",
    "\n",
    "import xml.etree.ElementTree as ET\n",
    "sys.path.append(\"/home/jupyter/tacc-work/jupyter_packages/lib/python2.7/site-packages\")\n",
    "from FlowCytometryTools import *\n",
    "\n",
    "import numpy as np\n",
    "import pandas\n",
    "import matplotlib\n",
    "import matplotlib.pyplot as plt\n",
    "%matplotlib inline\n",
    "import seaborn as sns\n",
    "sns.set(font_scale=1.5)\n",
    "\n",
    "# Initialize directories\n",
    "resultsdir = \"results/Inna_April_2016\"\n",
    "resultsdir_parse_metadata = os.path.join(resultsdir, 'parse_metadata')\n",
    "dirs = [resultsdir, resultsdir_parse_metadata]\n",
    "for dir_i in dirs:\n",
    "    if not os.path.isdir(dir_i):\n",
    "        os.makedirs(dir_i)"
   ]
  },
  {
   "cell_type": "markdown",
   "metadata": {},
   "source": [
    "## Specify all inputs"
   ]
  },
  {
   "cell_type": "code",
   "execution_count": 2,
   "metadata": {
    "collapsed": true
   },
   "outputs": [],
   "source": [
    "# Specify the location of FASTQ files\n",
    "fastq_dir = '/work/05402/haddox/jupyter/sd2e-community/shared-q1-workshop/strcklnd/ngs_data/run_4'\n",
    "\n",
    "# Specify the locations of directories with FCS files with part of the FACS data \n",
    "facs_dir = \"/work/05402/haddox/jupyter/sd2e-community/shared-q1-workshop/strcklnd/facs_data/production_data/\"\n",
    "job_ids = ['Job_56649', 'Job_56497', 'Job_56243']\n",
    "facs_dirs = ','.join([os.path.join(facs_dir, job_id) for job_id in job_ids])\n",
    "job_ids = ','.join(job_ids)\n",
    "\n",
    "# Specify the FACS channel name to investigate\n",
    "facs_channel_name = u'FITC-A'\n",
    "\n",
    "# Make a list of input XML files with the other part of the FACS data\n",
    "xml_files = ','.join(glob.glob(\n",
    "    os.path.join(facs_dir, 'sort_reports', '*/*.xml')\n",
    "))\n",
    "\n",
    "# Specify column-specific values to analyze in the metadata files.\n",
    "library_name = \"Inna April 2016\"\n",
    "ignore_aq_item_ids = '118852'\n",
    "\n",
    "# Specify the output metadata CSV file\n",
    "output_file = os.path.join(resultsdir_parse_metadata, 'experimental_metadata_from_script.csv')"
   ]
  },
  {
   "cell_type": "markdown",
   "metadata": {},
   "source": [
    "Read in input args, as if it were a new script"
   ]
  },
  {
   "cell_type": "code",
   "execution_count": 3,
   "metadata": {},
   "outputs": [],
   "source": [
    "job_ids = job_ids.split(',')\n",
    "facs_dirs = facs_dirs.split(',')\n",
    "xml_files = xml_files.split(',')\n",
    "ignore_aq_item_ids = ignore_aq_item_ids.split(',')"
   ]
  },
  {
   "cell_type": "markdown",
   "metadata": {},
   "source": [
    "## Read in data on location of deep-sequencing data"
   ]
  },
  {
   "cell_type": "code",
   "execution_count": 4,
   "metadata": {},
   "outputs": [],
   "source": [
    "fastq_summary_file = os.path.join(fastq_dir, 'run_4.csv')\n",
    "fastq_df = pandas.read_csv(fastq_summary_file)\n",
    "\n",
    "# Remove entires to ignore \n",
    "indices_to_drop = [i for (i, row) in fastq_df.iterrows() if row['aq_item_id'] in ignore_aq_item_ids]\n",
    "fastq_df.drop(indices_to_drop, inplace=True)\n",
    "fastq_df['fastq_id'] = fastq_df.apply(lambda row: os.path.join(row['aq_item_id'], row['filename_prefix']), axis=1)\n",
    "fastq_df['protease'] = fastq_df['protease'].apply(lambda x: x.lower())\n",
    "fastq_df['strain'] = fastq_df['strain'].apply(lambda x: x.replace(' ', '_'))\n",
    "fastq_df.set_index(['protease', 'concentration'], inplace=True)"
   ]
  },
  {
   "cell_type": "markdown",
   "metadata": {},
   "source": [
    "## For each sample in the experiment, quantify the number of total events and the number of events that pass the sorting threshold"
   ]
  },
  {
   "cell_type": "code",
   "execution_count": 5,
   "metadata": {
    "collapsed": true
   },
   "outputs": [],
   "source": [
    "def s_log(sample, channel_names):\n",
    "    new_sample = sample.copy()\n",
    "    new_data = new_sample.data\n",
    "\n",
    "    for channel_name in channel_names:\n",
    "        new_data[channel_name] = np.log10(new_data[channel_name])\n",
    "        \n",
    "    new_data.replace(to_replace = -np.inf, value = -1, inplace = True)\n",
    "    new_data = new_data.dropna()\n",
    "    new_sample.data = new_data\n",
    "    \n",
    "    return new_sample"
   ]
  },
  {
   "cell_type": "markdown",
   "metadata": {},
   "source": [
    "Read in data from the `manifest.txt` files"
   ]
  },
  {
   "cell_type": "code",
   "execution_count": 6,
   "metadata": {
    "collapsed": true,
    "scrolled": true
   },
   "outputs": [],
   "source": [
    "# Read in data from the `manifest.txt` files\n",
    "manifest_df = pandas.DataFrame()\n",
    "for (job_id, facs_dir) in zip(job_ids, facs_dirs):\n",
    "    df = pandas.read_csv(os.path.join(facs_dir, 'manifest.txt'))\n",
    "    df['job_id'] = job_id\n",
    "    df['directory'] = facs_dir\n",
    "    df['specimen'] = df['filename'].apply(lambda x : x[:12])\n",
    "    df['tube'] = df['filename'].apply(lambda x : x[13:21])\n",
    "    manifest_df = pandas.concat([manifest_df, df])\n",
    "manifest_df.set_index(['job_id', 'specimen', 'tube'], inplace=True)"
   ]
  },
  {
   "cell_type": "code",
   "execution_count": 7,
   "metadata": {
    "scrolled": true
   },
   "outputs": [
    {
     "name": "stderr",
     "output_type": "stream",
     "text": [
      "/opt/conda/envs/python2/lib/python2.7/site-packages/ipykernel/__main__.py:6: RuntimeWarning: invalid value encountered in log10\n",
      "/opt/conda/envs/python2/lib/python2.7/site-packages/ipykernel/__main__.py:6: RuntimeWarning: divide by zero encountered in log10\n"
     ]
    }
   ],
   "source": [
    "# Quantify the total number of events and events passing the gate\n",
    "fitc_data_dict = {}\n",
    "total_number_of_recorded_events = []\n",
    "number_of_events_passing_fitc_gate = []\n",
    "for (i, row) in manifest_df.iterrows():\n",
    "    \n",
    "    # Read in the data for the appropriate channel and transform it to a log10 scale\n",
    "    fcs_file = os.path.join(row['directory'], row['filename'])\n",
    "    sample = FCMeasurement(ID='Test Sample', datafile=fcs_file)\n",
    "    #print(\"Analyzing the channel: {0}\".format(channel_name))\n",
    "    sample = s_log(sample, [facs_channel_name])\n",
    "    df = sample.data\n",
    "    \n",
    "    # Count the number of total events and events passing the gate\n",
    "    total_number_of_recorded_events.append(len(df.index.values))\n",
    "    number_of_events_passing_fitc_gate.append(\n",
    "        sum(df[facs_channel_name] > 3.0)\n",
    "    )\n",
    "\n",
    "# Append the FACS data to the manifest dataframe\n",
    "manifest_df['total_number_of_recorded_events'] = total_number_of_recorded_events\n",
    "manifest_df['number_of_events_passing_fitc_gate'] = number_of_events_passing_fitc_gate\n",
    "manifest_df['fraction_collected'] = \\\n",
    "    manifest_df['number_of_events_passing_fitc_gate'] / manifest_df['total_number_of_recorded_events']\n",
    "columns_to_show = [\n",
    "    'strain', 'protease', 'concentration', 'total_number_of_recorded_events',\n",
    "    'number_of_events_passing_fitc_gate', 'fraction_collected'\n",
    "]\n",
    "#manifest_df[columns_to_show]"
   ]
  },
  {
   "cell_type": "markdown",
   "metadata": {},
   "source": [
    "Read in data from the XML files"
   ]
  },
  {
   "cell_type": "code",
   "execution_count": 8,
   "metadata": {
    "collapsed": true,
    "scrolled": true
   },
   "outputs": [],
   "source": [
    "# Compile data in each XML file\n",
    "xml_data_dict = {\n",
    "    key : []\n",
    "    for key in ['job_id', 'specimen', 'tube', 'cells_collected', 'intended_number_of_cells_collected'] #\n",
    "}\n",
    "cells_collected_pattern = re.compile(r'\\w+ : (?P<cells_collected>\\d+) / (?P<intended_number_of_cells_collected>\\d+)')\n",
    "for filename in xml_files:\n",
    "    tree = ET.parse(filename)\n",
    "    root = tree.getroot()\n",
    "\n",
    "    # Get experiment metadata\n",
    "    xml_data_dict['job_id'].append( root.findall(\".//*[@name='Experiment']\")[0].get('value') )\n",
    "    xml_data_dict['specimen'].append( root.findall(\".//*[@name='Specimen']\")[0].get('value') )\n",
    "    xml_data_dict['tube'].append( root.findall(\".//*[@name='Tube']\")[0].get('value') )\n",
    "    \n",
    "    # Get experiment counts\n",
    "    cells_collected_data = root[4].findall(\".//*[@col='1']\")[0].text\n",
    "    match = re.match(cells_collected_pattern, cells_collected_data)\n",
    "    if match:\n",
    "        xml_data_dict['cells_collected'].append(\n",
    "            int(match.group('cells_collected'))\n",
    "        )\n",
    "        xml_data_dict['intended_number_of_cells_collected'].append(\n",
    "            int(match.group('intended_number_of_cells_collected'))\n",
    "        )\n",
    "    else:\n",
    "        xml_data_dict['cells_collected'].append(None)\n",
    "        xml_data_dict['intended_number_of_cells_collected'].append(None)\n",
    "          \n",
    "# Convert data to a dataframe\n",
    "xml_data_df = pandas.DataFrame.from_dict(xml_data_dict)\n",
    "xml_data_df.set_index(['job_id', 'specimen', 'tube'], inplace=True)\n",
    "#xml_data_df"
   ]
  },
  {
   "cell_type": "markdown",
   "metadata": {
    "collapsed": true
   },
   "source": [
    "Merge the FACS data from the two input sources"
   ]
  },
  {
   "cell_type": "code",
   "execution_count": 9,
   "metadata": {},
   "outputs": [],
   "source": [
    "facs_df = manifest_df.merge(xml_data_df, left_index=True, right_index=True, how='left')\n",
    "facs_df = facs_df[\n",
    "    facs_df['strain'] == library_name\n",
    "]\n",
    "facs_df.set_index(['protease', 'concentration'], inplace=True)\n",
    "columns_to_show = ['cells_collected', 'fraction_collected']\n",
    "#facs_df[columns_to_show]"
   ]
  },
  {
   "cell_type": "markdown",
   "metadata": {},
   "source": [
    "Merge the FACS and deep-sequencing data"
   ]
  },
  {
   "cell_type": "code",
   "execution_count": 10,
   "metadata": {},
   "outputs": [
    {
     "data": {
      "text/html": [
       "<div>\n",
       "<style scoped>\n",
       "    .dataframe tbody tr th:only-of-type {\n",
       "        vertical-align: middle;\n",
       "    }\n",
       "\n",
       "    .dataframe tbody tr th {\n",
       "        vertical-align: top;\n",
       "    }\n",
       "\n",
       "    .dataframe thead th {\n",
       "        text-align: right;\n",
       "    }\n",
       "</style>\n",
       "<table border=\"1\" class=\"dataframe\">\n",
       "  <thead>\n",
       "    <tr style=\"text-align: right;\">\n",
       "      <th></th>\n",
       "      <th>protease</th>\n",
       "      <th>concentration</th>\n",
       "      <th>fastq_id</th>\n",
       "      <th>cells_collected</th>\n",
       "      <th>fraction_collected</th>\n",
       "    </tr>\n",
       "  </thead>\n",
       "  <tbody>\n",
       "    <tr>\n",
       "      <th>0</th>\n",
       "      <td>chymotrypsin</td>\n",
       "      <td>9.5</td>\n",
       "      <td>118855/A_Aprilexp1round1_4</td>\n",
       "      <td>1200000.0</td>\n",
       "      <td>0.189052</td>\n",
       "    </tr>\n",
       "    <tr>\n",
       "      <th>1</th>\n",
       "      <td>chymotrypsin</td>\n",
       "      <td>28.0</td>\n",
       "      <td>118856/A_Aprilexp1round1_5</td>\n",
       "      <td>1200000.0</td>\n",
       "      <td>0.174285</td>\n",
       "    </tr>\n",
       "    <tr>\n",
       "      <th>2</th>\n",
       "      <td>chymotrypsin</td>\n",
       "      <td>83.0</td>\n",
       "      <td>118863/A_Aprilexp1round2_3</td>\n",
       "      <td>5641051.0</td>\n",
       "      <td>0.636093</td>\n",
       "    </tr>\n",
       "    <tr>\n",
       "      <th>3</th>\n",
       "      <td>chymotrypsin</td>\n",
       "      <td>250.0</td>\n",
       "      <td>118864/A_Aprilexp1round2_4</td>\n",
       "      <td>5631873.0</td>\n",
       "      <td>0.505090</td>\n",
       "    </tr>\n",
       "    <tr>\n",
       "      <th>4</th>\n",
       "      <td>chymotrypsin</td>\n",
       "      <td>750.0</td>\n",
       "      <td>118859/A_Aprilexp1round3_3</td>\n",
       "      <td>2564592.0</td>\n",
       "      <td>0.305309</td>\n",
       "    </tr>\n",
       "    <tr>\n",
       "      <th>5</th>\n",
       "      <td>chymotrypsin</td>\n",
       "      <td>2250.0</td>\n",
       "      <td>118860/A_Aprilexp1round3_4</td>\n",
       "      <td>1127664.0</td>\n",
       "      <td>0.128904</td>\n",
       "    </tr>\n",
       "    <tr>\n",
       "      <th>6</th>\n",
       "      <td>trypsin</td>\n",
       "      <td>0.0</td>\n",
       "      <td>naive/run2-09-jan25-2018_S9</td>\n",
       "      <td>1200000.0</td>\n",
       "      <td>0.208038</td>\n",
       "    </tr>\n",
       "    <tr>\n",
       "      <th>7</th>\n",
       "      <td>trypsin</td>\n",
       "      <td>9.5</td>\n",
       "      <td>118853/A_Aprilexp1round1_2</td>\n",
       "      <td>1200000.0</td>\n",
       "      <td>0.182106</td>\n",
       "    </tr>\n",
       "    <tr>\n",
       "      <th>8</th>\n",
       "      <td>trypsin</td>\n",
       "      <td>28.0</td>\n",
       "      <td>118854/A_Aprilexp1round1_3</td>\n",
       "      <td>1200000.0</td>\n",
       "      <td>0.166087</td>\n",
       "    </tr>\n",
       "    <tr>\n",
       "      <th>9</th>\n",
       "      <td>trypsin</td>\n",
       "      <td>83.0</td>\n",
       "      <td>118861/A_Aprilexp1round2_1</td>\n",
       "      <td>7560000.0</td>\n",
       "      <td>0.628806</td>\n",
       "    </tr>\n",
       "    <tr>\n",
       "      <th>10</th>\n",
       "      <td>trypsin</td>\n",
       "      <td>250.0</td>\n",
       "      <td>118862/A_Aprilexp1round2_2</td>\n",
       "      <td>5667250.0</td>\n",
       "      <td>0.495755</td>\n",
       "    </tr>\n",
       "    <tr>\n",
       "      <th>11</th>\n",
       "      <td>trypsin</td>\n",
       "      <td>750.0</td>\n",
       "      <td>118857/A_Aprilexp1round3_1</td>\n",
       "      <td>895311.0</td>\n",
       "      <td>0.139653</td>\n",
       "    </tr>\n",
       "    <tr>\n",
       "      <th>12</th>\n",
       "      <td>trypsin</td>\n",
       "      <td>2250.0</td>\n",
       "      <td>118858/A_Aprilexp1round3_2</td>\n",
       "      <td>267584.0</td>\n",
       "      <td>0.032190</td>\n",
       "    </tr>\n",
       "  </tbody>\n",
       "</table>\n",
       "</div>"
      ],
      "text/plain": [
       "        protease  concentration                     fastq_id  cells_collected  \\\n",
       "0   chymotrypsin            9.5   118855/A_Aprilexp1round1_4        1200000.0   \n",
       "1   chymotrypsin           28.0   118856/A_Aprilexp1round1_5        1200000.0   \n",
       "2   chymotrypsin           83.0   118863/A_Aprilexp1round2_3        5641051.0   \n",
       "3   chymotrypsin          250.0   118864/A_Aprilexp1round2_4        5631873.0   \n",
       "4   chymotrypsin          750.0   118859/A_Aprilexp1round3_3        2564592.0   \n",
       "5   chymotrypsin         2250.0   118860/A_Aprilexp1round3_4        1127664.0   \n",
       "6        trypsin            0.0  naive/run2-09-jan25-2018_S9        1200000.0   \n",
       "7        trypsin            9.5   118853/A_Aprilexp1round1_2        1200000.0   \n",
       "8        trypsin           28.0   118854/A_Aprilexp1round1_3        1200000.0   \n",
       "9        trypsin           83.0   118861/A_Aprilexp1round2_1        7560000.0   \n",
       "10       trypsin          250.0   118862/A_Aprilexp1round2_2        5667250.0   \n",
       "11       trypsin          750.0   118857/A_Aprilexp1round3_1         895311.0   \n",
       "12       trypsin         2250.0   118858/A_Aprilexp1round3_2         267584.0   \n",
       "\n",
       "    fraction_collected  \n",
       "0             0.189052  \n",
       "1             0.174285  \n",
       "2             0.636093  \n",
       "3             0.505090  \n",
       "4             0.305309  \n",
       "5             0.128904  \n",
       "6             0.208038  \n",
       "7             0.182106  \n",
       "8             0.166087  \n",
       "9             0.628806  \n",
       "10            0.495755  \n",
       "11            0.139653  \n",
       "12            0.032190  "
      ]
     },
     "execution_count": 10,
     "metadata": {},
     "output_type": "execute_result"
    }
   ],
   "source": [
    "df = fastq_df.merge(facs_df, left_index=True, right_index=True, how=\"outer\")\n",
    "columns_to_write = ['fastq_id', 'cells_collected', 'fraction_collected']\n",
    "df = df[columns_to_write]\n",
    "df.reset_index(inplace=True)\n",
    "df"
   ]
  },
  {
   "cell_type": "markdown",
   "metadata": {},
   "source": [
    "Add a row for a naive sample for chymotrypsin, using the same deep-sequencing data as for trypsin "
   ]
  },
  {
   "cell_type": "code",
   "execution_count": 11,
   "metadata": {},
   "outputs": [],
   "source": [
    "df_with_extra_row = pandas.DataFrame.from_dict(\n",
    "    {\n",
    "        'protease' : ['chymotrypsin'],\n",
    "        'concentration' : [0],\n",
    "        'fastq_id' : [df.iloc[6]['fastq_id']],\n",
    "        'cells_collected' : [df.iloc[6]['cells_collected']],\n",
    "        'fraction_collected' : [df.iloc[6]['fraction_collected']]\n",
    "    }\n",
    ")\n",
    "df_with_extra_row\n",
    "df = pandas.concat([df, df_with_extra_row])"
   ]
  },
  {
   "cell_type": "markdown",
   "metadata": {},
   "source": [
    "Show concatenated dataframe, sorted by protease and protease concentration."
   ]
  },
  {
   "cell_type": "code",
   "execution_count": 12,
   "metadata": {},
   "outputs": [],
   "source": [
    "df.sort_values(by=['protease', 'concentration'], inplace=True)\n",
    "df"
   ]
  },
  {
   "cell_type": "markdown",
   "metadata": {},
   "source": [
    "Manually add missing columns"
   ]
  },
  {
   "cell_type": "code",
   "execution_count": 13,
   "metadata": {},
   "outputs": [
    {
     "data": {
      "text/html": [
       "<div>\n",
       "<style scoped>\n",
       "    .dataframe tbody tr th:only-of-type {\n",
       "        vertical-align: middle;\n",
       "    }\n",
       "\n",
       "    .dataframe tbody tr th {\n",
       "        vertical-align: top;\n",
       "    }\n",
       "\n",
       "    .dataframe thead th {\n",
       "        text-align: right;\n",
       "    }\n",
       "</style>\n",
       "<table border=\"1\" class=\"dataframe\">\n",
       "  <thead>\n",
       "    <tr style=\"text-align: right;\">\n",
       "      <th></th>\n",
       "      <th>experiment_id</th>\n",
       "      <th>protease_type</th>\n",
       "      <th>concentration</th>\n",
       "      <th>selection_strength</th>\n",
       "      <th>parent</th>\n",
       "      <th>conc_factor</th>\n",
       "      <th>fastq_id</th>\n",
       "      <th>parent_expression</th>\n",
       "      <th>fraction_collected</th>\n",
       "      <th>cells_collected</th>\n",
       "    </tr>\n",
       "  </thead>\n",
       "  <tbody>\n",
       "    <tr>\n",
       "      <th>0</th>\n",
       "      <td>Inna_April_2016_rep1</td>\n",
       "      <td>chymotrypsin</td>\n",
       "      <td>0.0</td>\n",
       "      <td>0</td>\n",
       "      <td></td>\n",
       "      <td></td>\n",
       "      <td>naive/run2-09-jan25-2018_S9</td>\n",
       "      <td></td>\n",
       "      <td>0.208038</td>\n",
       "      <td>1200000.0</td>\n",
       "    </tr>\n",
       "    <tr>\n",
       "      <th>0</th>\n",
       "      <td>Inna_April_2016_rep1</td>\n",
       "      <td>chymotrypsin</td>\n",
       "      <td>9.5</td>\n",
       "      <td>1</td>\n",
       "      <td>0</td>\n",
       "      <td>3</td>\n",
       "      <td>118855/A_Aprilexp1round1_4</td>\n",
       "      <td>0.208038</td>\n",
       "      <td>0.189052</td>\n",
       "      <td>1200000.0</td>\n",
       "    </tr>\n",
       "    <tr>\n",
       "      <th>1</th>\n",
       "      <td>Inna_April_2016_rep1</td>\n",
       "      <td>chymotrypsin</td>\n",
       "      <td>28.0</td>\n",
       "      <td>2</td>\n",
       "      <td>0</td>\n",
       "      <td>3</td>\n",
       "      <td>118856/A_Aprilexp1round1_5</td>\n",
       "      <td>0.208038</td>\n",
       "      <td>0.174285</td>\n",
       "      <td>1200000.0</td>\n",
       "    </tr>\n",
       "    <tr>\n",
       "      <th>2</th>\n",
       "      <td>Inna_April_2016_rep1</td>\n",
       "      <td>chymotrypsin</td>\n",
       "      <td>83.0</td>\n",
       "      <td>3</td>\n",
       "      <td>2</td>\n",
       "      <td>3</td>\n",
       "      <td>118863/A_Aprilexp1round2_3</td>\n",
       "      <td></td>\n",
       "      <td>0.636093</td>\n",
       "      <td>5641051.0</td>\n",
       "    </tr>\n",
       "    <tr>\n",
       "      <th>3</th>\n",
       "      <td>Inna_April_2016_rep1</td>\n",
       "      <td>chymotrypsin</td>\n",
       "      <td>250.0</td>\n",
       "      <td>4</td>\n",
       "      <td>2</td>\n",
       "      <td>3</td>\n",
       "      <td>118864/A_Aprilexp1round2_4</td>\n",
       "      <td></td>\n",
       "      <td>0.505090</td>\n",
       "      <td>5631873.0</td>\n",
       "    </tr>\n",
       "    <tr>\n",
       "      <th>4</th>\n",
       "      <td>Inna_April_2016_rep1</td>\n",
       "      <td>chymotrypsin</td>\n",
       "      <td>750.0</td>\n",
       "      <td>5</td>\n",
       "      <td>4</td>\n",
       "      <td>3</td>\n",
       "      <td>118859/A_Aprilexp1round3_3</td>\n",
       "      <td></td>\n",
       "      <td>0.305309</td>\n",
       "      <td>2564592.0</td>\n",
       "    </tr>\n",
       "    <tr>\n",
       "      <th>5</th>\n",
       "      <td>Inna_April_2016_rep1</td>\n",
       "      <td>chymotrypsin</td>\n",
       "      <td>2250.0</td>\n",
       "      <td>6</td>\n",
       "      <td>4</td>\n",
       "      <td>3</td>\n",
       "      <td>118860/A_Aprilexp1round3_4</td>\n",
       "      <td></td>\n",
       "      <td>0.128904</td>\n",
       "      <td>1127664.0</td>\n",
       "    </tr>\n",
       "    <tr>\n",
       "      <th>6</th>\n",
       "      <td>Inna_April_2016_rep1</td>\n",
       "      <td>trypsin</td>\n",
       "      <td>0.0</td>\n",
       "      <td>0</td>\n",
       "      <td></td>\n",
       "      <td></td>\n",
       "      <td>naive/run2-09-jan25-2018_S9</td>\n",
       "      <td></td>\n",
       "      <td>0.208038</td>\n",
       "      <td>1200000.0</td>\n",
       "    </tr>\n",
       "    <tr>\n",
       "      <th>7</th>\n",
       "      <td>Inna_April_2016_rep1</td>\n",
       "      <td>trypsin</td>\n",
       "      <td>9.5</td>\n",
       "      <td>1</td>\n",
       "      <td>0</td>\n",
       "      <td>3</td>\n",
       "      <td>118853/A_Aprilexp1round1_2</td>\n",
       "      <td>0.208038</td>\n",
       "      <td>0.182106</td>\n",
       "      <td>1200000.0</td>\n",
       "    </tr>\n",
       "    <tr>\n",
       "      <th>8</th>\n",
       "      <td>Inna_April_2016_rep1</td>\n",
       "      <td>trypsin</td>\n",
       "      <td>28.0</td>\n",
       "      <td>2</td>\n",
       "      <td>0</td>\n",
       "      <td>3</td>\n",
       "      <td>118854/A_Aprilexp1round1_3</td>\n",
       "      <td>0.208038</td>\n",
       "      <td>0.166087</td>\n",
       "      <td>1200000.0</td>\n",
       "    </tr>\n",
       "    <tr>\n",
       "      <th>9</th>\n",
       "      <td>Inna_April_2016_rep1</td>\n",
       "      <td>trypsin</td>\n",
       "      <td>83.0</td>\n",
       "      <td>3</td>\n",
       "      <td>2</td>\n",
       "      <td>3</td>\n",
       "      <td>118861/A_Aprilexp1round2_1</td>\n",
       "      <td></td>\n",
       "      <td>0.628806</td>\n",
       "      <td>7560000.0</td>\n",
       "    </tr>\n",
       "    <tr>\n",
       "      <th>10</th>\n",
       "      <td>Inna_April_2016_rep1</td>\n",
       "      <td>trypsin</td>\n",
       "      <td>250.0</td>\n",
       "      <td>4</td>\n",
       "      <td>2</td>\n",
       "      <td>3</td>\n",
       "      <td>118862/A_Aprilexp1round2_2</td>\n",
       "      <td></td>\n",
       "      <td>0.495755</td>\n",
       "      <td>5667250.0</td>\n",
       "    </tr>\n",
       "    <tr>\n",
       "      <th>11</th>\n",
       "      <td>Inna_April_2016_rep1</td>\n",
       "      <td>trypsin</td>\n",
       "      <td>750.0</td>\n",
       "      <td>5</td>\n",
       "      <td>4</td>\n",
       "      <td>3</td>\n",
       "      <td>118857/A_Aprilexp1round3_1</td>\n",
       "      <td></td>\n",
       "      <td>0.139653</td>\n",
       "      <td>895311.0</td>\n",
       "    </tr>\n",
       "    <tr>\n",
       "      <th>12</th>\n",
       "      <td>Inna_April_2016_rep1</td>\n",
       "      <td>trypsin</td>\n",
       "      <td>2250.0</td>\n",
       "      <td>6</td>\n",
       "      <td>4</td>\n",
       "      <td>3</td>\n",
       "      <td>118858/A_Aprilexp1round3_2</td>\n",
       "      <td></td>\n",
       "      <td>0.032190</td>\n",
       "      <td>267584.0</td>\n",
       "    </tr>\n",
       "  </tbody>\n",
       "</table>\n",
       "</div>"
      ],
      "text/plain": [
       "           experiment_id protease_type  concentration  selection_strength  \\\n",
       "0   Inna_April_2016_rep1  chymotrypsin            0.0                   0   \n",
       "0   Inna_April_2016_rep1  chymotrypsin            9.5                   1   \n",
       "1   Inna_April_2016_rep1  chymotrypsin           28.0                   2   \n",
       "2   Inna_April_2016_rep1  chymotrypsin           83.0                   3   \n",
       "3   Inna_April_2016_rep1  chymotrypsin          250.0                   4   \n",
       "4   Inna_April_2016_rep1  chymotrypsin          750.0                   5   \n",
       "5   Inna_April_2016_rep1  chymotrypsin         2250.0                   6   \n",
       "6   Inna_April_2016_rep1       trypsin            0.0                   0   \n",
       "7   Inna_April_2016_rep1       trypsin            9.5                   1   \n",
       "8   Inna_April_2016_rep1       trypsin           28.0                   2   \n",
       "9   Inna_April_2016_rep1       trypsin           83.0                   3   \n",
       "10  Inna_April_2016_rep1       trypsin          250.0                   4   \n",
       "11  Inna_April_2016_rep1       trypsin          750.0                   5   \n",
       "12  Inna_April_2016_rep1       trypsin         2250.0                   6   \n",
       "\n",
       "   parent conc_factor                     fastq_id parent_expression  \\\n",
       "0                      naive/run2-09-jan25-2018_S9                     \n",
       "0       0           3   118855/A_Aprilexp1round1_4          0.208038   \n",
       "1       0           3   118856/A_Aprilexp1round1_5          0.208038   \n",
       "2       2           3   118863/A_Aprilexp1round2_3                     \n",
       "3       2           3   118864/A_Aprilexp1round2_4                     \n",
       "4       4           3   118859/A_Aprilexp1round3_3                     \n",
       "5       4           3   118860/A_Aprilexp1round3_4                     \n",
       "6                      naive/run2-09-jan25-2018_S9                     \n",
       "7       0           3   118853/A_Aprilexp1round1_2          0.208038   \n",
       "8       0           3   118854/A_Aprilexp1round1_3          0.208038   \n",
       "9       2           3   118861/A_Aprilexp1round2_1                     \n",
       "10      2           3   118862/A_Aprilexp1round2_2                     \n",
       "11      4           3   118857/A_Aprilexp1round3_1                     \n",
       "12      4           3   118858/A_Aprilexp1round3_2                     \n",
       "\n",
       "    fraction_collected  cells_collected  \n",
       "0             0.208038        1200000.0  \n",
       "0             0.189052        1200000.0  \n",
       "1             0.174285        1200000.0  \n",
       "2             0.636093        5641051.0  \n",
       "3             0.505090        5631873.0  \n",
       "4             0.305309        2564592.0  \n",
       "5             0.128904        1127664.0  \n",
       "6             0.208038        1200000.0  \n",
       "7             0.182106        1200000.0  \n",
       "8             0.166087        1200000.0  \n",
       "9             0.628806        7560000.0  \n",
       "10            0.495755        5667250.0  \n",
       "11            0.139653         895311.0  \n",
       "12            0.032190         267584.0  "
      ]
     },
     "execution_count": 13,
     "metadata": {},
     "output_type": "execute_result"
    }
   ],
   "source": [
    "# Add columns\n",
    "df['experiment_id'] = 'Inna_April_2016_rep1'\n",
    "df['selection_strength'] = 2 * [i for i in range(0,7)]\n",
    "df['conc_factor'] = 2 * ['', '3', '3', '3', '3', '3', '3']\n",
    "df['parent'] = 2 * ['', '0', '0', '2', '2', '4', '4']\n",
    "df['parent_expression'] = 2 * ['', 0.208038, 0.208038, '', '', '', '']\n",
    "\n",
    "# Rename columns\n",
    "df.rename(\n",
    "    {'protease':'protease_type'},\n",
    "    inplace=True,\n",
    "    axis='columns'\n",
    ")\n",
    "column_order = [\n",
    "    'experiment_id', 'protease_type', 'concentration', 'selection_strength', 'parent', 'conc_factor', 'fastq_id',\n",
    "    'parent_expression', 'fraction_collected', 'cells_collected'\n",
    "]\n",
    "df[column_order]"
   ]
  },
  {
   "cell_type": "markdown",
   "metadata": {},
   "source": [
    "Write the above dataframe to an output file"
   ]
  },
  {
   "cell_type": "code",
   "execution_count": 14,
   "metadata": {
    "scrolled": false
   },
   "outputs": [
    {
     "name": "stdout",
     "output_type": "stream",
     "text": [
      "Writing metadata to the experimental summary file: results/Inna_April_2016/parse_metadata/experimental_metadata_from_script.csv\n"
     ]
    }
   ],
   "source": [
    "print(\"Writing metadata to the experimental summary file: {0}\".format(output_file))\n",
    "df[column_order].to_csv(output_file, index=False)"
   ]
  },
  {
   "cell_type": "code",
   "execution_count": null,
   "metadata": {
    "collapsed": true
   },
   "outputs": [],
   "source": []
  },
  {
   "cell_type": "code",
   "execution_count": null,
   "metadata": {
    "collapsed": true
   },
   "outputs": [],
   "source": []
  },
  {
   "cell_type": "code",
   "execution_count": null,
   "metadata": {
    "collapsed": true
   },
   "outputs": [],
   "source": []
  },
  {
   "cell_type": "code",
   "execution_count": null,
   "metadata": {
    "collapsed": true
   },
   "outputs": [],
   "source": []
  },
  {
   "cell_type": "code",
   "execution_count": null,
   "metadata": {
    "collapsed": true
   },
   "outputs": [],
   "source": []
  },
  {
   "cell_type": "markdown",
   "metadata": {},
   "source": [
    "Past code from Devin"
   ]
  },
  {
   "cell_type": "code",
   "execution_count": null,
   "metadata": {},
   "outputs": [],
   "source": [
    "datafile = \"/work/05402/haddox/jupyter/sd2e-community/shared-q1-workshop/strcklnd/facs_data/production_data/Job_56243/Specimen_001_Tube_006_006.fcs\"\n",
    "channel_name = u'FITC-A'\n",
    "possible_channel_names = [channel_name]\n",
    "sample = FCMeasurement(ID='Test Sample', datafile=datafile)\n",
    "channel_name = list(set(possible_channel_names).intersection(set(list(sample.channel_names)))).pop(0)\n",
    "sample = s_log(sample, [channel_name])\n",
    "df = sample.data\n",
    "all_events = df.count()\n",
    "high_fitc = df[(df[channel_name] > 3.0)].count()\n",
    "print(all_events[channel_name])\n",
    "print(high_fitc[channel_name])\n",
    "sns.distplot(df[channel_name])"
   ]
  },
  {
   "cell_type": "code",
   "execution_count": null,
   "metadata": {},
   "outputs": [],
   "source": [
    "sample.channel_names"
   ]
  },
  {
   "cell_type": "code",
   "execution_count": null,
   "metadata": {
    "collapsed": true
   },
   "outputs": [],
   "source": []
  },
  {
   "cell_type": "markdown",
   "metadata": {},
   "source": [
    "Code used to install the `flowcytometrytools` package."
   ]
  },
  {
   "cell_type": "code",
   "execution_count": null,
   "metadata": {
    "collapsed": true
   },
   "outputs": [],
   "source": [
    "!PYTHONUSERBASE=~/tacc-work/jupyter_packages pip install --user flowcytometrytools"
   ]
  }
 ],
 "metadata": {
  "kernelspec": {
   "display_name": "Python 2",
   "language": "python",
   "name": "python2"
  },
  "language_info": {
   "codemirror_mode": {
    "name": "ipython",
    "version": 2
   },
   "file_extension": ".py",
   "mimetype": "text/x-python",
   "name": "python",
   "nbconvert_exporter": "python",
   "pygments_lexer": "ipython2",
   "version": "2.7.14"
  }
 },
 "nbformat": 4,
 "nbformat_minor": 2
}
